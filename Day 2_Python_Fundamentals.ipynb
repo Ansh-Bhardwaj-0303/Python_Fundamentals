{
 "cells": [
  {
   "cell_type": "code",
   "execution_count": null,
   "id": "beaf0c4d",
   "metadata": {},
   "outputs": [],
   "source": [
    "Let's understand the variables in python:"
   ]
  },
  {
   "cell_type": "code",
   "execution_count": 1,
   "id": "2e460a60",
   "metadata": {},
   "outputs": [
    {
     "name": "stdout",
     "output_type": "stream",
     "text": [
      "11\n"
     ]
    }
   ],
   "source": [
    "a = 3\n",
    "b = 8\n",
    "c = a + b\n",
    "\n",
    "print(c)"
   ]
  },
  {
   "cell_type": "code",
   "execution_count": null,
   "id": "a0d09d7b",
   "metadata": {},
   "outputs": [],
   "source": []
  },
  {
   "cell_type": "code",
   "execution_count": null,
   "id": "4b3555d7",
   "metadata": {},
   "outputs": [],
   "source": [
    "Rules for declaring the variables in python:"
   ]
  },
  {
   "cell_type": "code",
   "execution_count": null,
   "id": "383b6741",
   "metadata": {},
   "outputs": [],
   "source": [
    "Rule No. 1 :- No namespace while declaring the variable name."
   ]
  },
  {
   "cell_type": "code",
   "execution_count": 2,
   "id": "2637cbeb",
   "metadata": {},
   "outputs": [
    {
     "ename": "SyntaxError",
     "evalue": "invalid syntax (<ipython-input-2-3fc284538c59>, line 1)",
     "output_type": "error",
     "traceback": [
      "\u001b[1;36m  File \u001b[1;32m\"<ipython-input-2-3fc284538c59>\"\u001b[1;36m, line \u001b[1;32m1\u001b[0m\n\u001b[1;33m    Eg. :- Class Monitor = 'Ansh'\u001b[0m\n\u001b[1;37m        ^\u001b[0m\n\u001b[1;31mSyntaxError\u001b[0m\u001b[1;31m:\u001b[0m invalid syntax\n"
     ]
    }
   ],
   "source": [
    "Eg. :- Class Monitor = 'Ansh'\n",
    "       print(Class Monitor)"
   ]
  },
  {
   "cell_type": "code",
   "execution_count": 4,
   "id": "c2403409",
   "metadata": {},
   "outputs": [
    {
     "name": "stdout",
     "output_type": "stream",
     "text": [
      "Ansh\n"
     ]
    }
   ],
   "source": [
    "ClassMonitor = 'Ansh'\n",
    "print(ClassMonitor)"
   ]
  },
  {
   "cell_type": "code",
   "execution_count": null,
   "id": "54462a2d",
   "metadata": {},
   "outputs": [],
   "source": []
  },
  {
   "cell_type": "code",
   "execution_count": null,
   "id": "047fb517",
   "metadata": {},
   "outputs": [],
   "source": [
    "Rule No. 2 :- A variable name should not start with a number."
   ]
  },
  {
   "cell_type": "code",
   "execution_count": 5,
   "id": "7025d77b",
   "metadata": {},
   "outputs": [
    {
     "ename": "SyntaxError",
     "evalue": "invalid syntax (<ipython-input-5-8fbfc46be568>, line 1)",
     "output_type": "error",
     "traceback": [
      "\u001b[1;36m  File \u001b[1;32m\"<ipython-input-5-8fbfc46be568>\"\u001b[1;36m, line \u001b[1;32m1\u001b[0m\n\u001b[1;33m    Eg. :- 123subject = 'Science'\u001b[0m\n\u001b[1;37m        ^\u001b[0m\n\u001b[1;31mSyntaxError\u001b[0m\u001b[1;31m:\u001b[0m invalid syntax\n"
     ]
    }
   ],
   "source": [
    "Eg. :- 123subject = 'Science'\n",
    "       print(123subject)"
   ]
  },
  {
   "cell_type": "code",
   "execution_count": 6,
   "id": "6f55741a",
   "metadata": {},
   "outputs": [
    {
     "name": "stdout",
     "output_type": "stream",
     "text": [
      "Science\n"
     ]
    }
   ],
   "source": [
    "subject123 = 'Science'\n",
    "print(subject123)"
   ]
  },
  {
   "cell_type": "code",
   "execution_count": null,
   "id": "50322ff9",
   "metadata": {},
   "outputs": [],
   "source": []
  },
  {
   "cell_type": "code",
   "execution_count": null,
   "id": "81df1a95",
   "metadata": {},
   "outputs": [],
   "source": [
    "Rule No. 3 :- No special characters while declaring the variable name."
   ]
  },
  {
   "cell_type": "code",
   "execution_count": 7,
   "id": "8900f2fb",
   "metadata": {},
   "outputs": [
    {
     "ename": "SyntaxError",
     "evalue": "invalid syntax (<ipython-input-7-d7e5b76dd1a0>, line 1)",
     "output_type": "error",
     "traceback": [
      "\u001b[1;36m  File \u001b[1;32m\"<ipython-input-7-d7e5b76dd1a0>\"\u001b[1;36m, line \u001b[1;32m1\u001b[0m\n\u001b[1;33m    Eg. :- boy@ = 'Vansh'\u001b[0m\n\u001b[1;37m        ^\u001b[0m\n\u001b[1;31mSyntaxError\u001b[0m\u001b[1;31m:\u001b[0m invalid syntax\n"
     ]
    }
   ],
   "source": [
    "Eg. :- boy@ = 'Vansh'\n",
    "       print(boy@)"
   ]
  },
  {
   "cell_type": "code",
   "execution_count": null,
   "id": "8abdd712",
   "metadata": {},
   "outputs": [],
   "source": []
  },
  {
   "cell_type": "code",
   "execution_count": null,
   "id": "44341795",
   "metadata": {},
   "outputs": [],
   "source": [
    "--------------------------------------------> Introduction to datatypes in python <--------------------------------------------"
   ]
  },
  {
   "cell_type": "code",
   "execution_count": null,
   "id": "72a7772d",
   "metadata": {},
   "outputs": [],
   "source": [
    "1. String -----> str\n",
    "\n",
    "2. Numbers -----> integers (int) and floats (decimals)\n",
    "\n",
    "3. List -----> list\n",
    "\n",
    "4. Tuple -----> tuple \n",
    "\n",
    "5. Dictionaries -----> dict"
   ]
  },
  {
   "cell_type": "code",
   "execution_count": null,
   "id": "8e838eae",
   "metadata": {},
   "outputs": [],
   "source": []
  },
  {
   "cell_type": "code",
   "execution_count": null,
   "id": "43f69cd1",
   "metadata": {},
   "outputs": [],
   "source": [
    "------------------------------------------------> Classification of Datatypes <------------------------------------------------"
   ]
  },
  {
   "cell_type": "code",
   "execution_count": null,
   "id": "18469759",
   "metadata": {},
   "outputs": [],
   "source": [
    "1. Mutable Datatype -----> We can be able to change or edit the data (flexible)\n",
    "\n",
    "2. Immutable Datatype -----> We will not be able to change or edit the data (fixed)"
   ]
  },
  {
   "cell_type": "code",
   "execution_count": null,
   "id": "f78a7d07",
   "metadata": {},
   "outputs": [],
   "source": []
  },
  {
   "cell_type": "code",
   "execution_count": null,
   "id": "7dbe1623",
   "metadata": {},
   "outputs": [],
   "source": [
    "----------------------------------------------> Introduction to String Datatype <----------------------------------------------"
   ]
  },
  {
   "cell_type": "code",
   "execution_count": null,
   "id": "5236fd20",
   "metadata": {},
   "outputs": [],
   "source": [
    "Defination :- A string is a series of characters enclosed in quotes.\n",
    "    \n",
    "Classification :- It is classified as an immutable datatype.\n",
    "    \n",
    "How to declare the string ==============> 3 possible ways.\n",
    "\n",
    "1. Single Quote\n",
    "2. Double Quote\n",
    "3. Triple Quote"
   ]
  },
  {
   "cell_type": "code",
   "execution_count": 18,
   "id": "57cdd77a",
   "metadata": {},
   "outputs": [],
   "source": []
  },
  {
   "cell_type": "code",
   "execution_count": 19,
   "id": "348980b7",
   "metadata": {},
   "outputs": [
    {
     "name": "stdout",
     "output_type": "stream",
     "text": [
      "Ansh\n"
     ]
    }
   ],
   "source": [
    "name = 'Ansh'      # single quote\n",
    "print(name) "
   ]
  },
  {
   "cell_type": "code",
   "execution_count": 20,
   "id": "6cc26b72",
   "metadata": {},
   "outputs": [
    {
     "name": "stdout",
     "output_type": "stream",
     "text": [
      "Akash\n"
     ]
    }
   ],
   "source": [
    "name2 = \"Akash\"      # double quote\n",
    "print(name2)"
   ]
  },
  {
   "cell_type": "code",
   "execution_count": 21,
   "id": "0b1c33fa",
   "metadata": {},
   "outputs": [
    {
     "name": "stdout",
     "output_type": "stream",
     "text": [
      "Shivansh\n"
     ]
    }
   ],
   "source": [
    "name3 = '''Shivansh'''      # triple quote\n",
    "print(name3)"
   ]
  },
  {
   "cell_type": "code",
   "execution_count": null,
   "id": "88a61a40",
   "metadata": {},
   "outputs": [],
   "source": []
  },
  {
   "cell_type": "code",
   "execution_count": 22,
   "id": "41b7331a",
   "metadata": {},
   "outputs": [],
   "source": [
    "# is for commenting the line in python ------>"
   ]
  },
  {
   "cell_type": "code",
   "execution_count": 23,
   "id": "90f02678",
   "metadata": {},
   "outputs": [
    {
     "ename": "SyntaxError",
     "evalue": "invalid syntax (<ipython-input-23-b0931901910a>, line 1)",
     "output_type": "error",
     "traceback": [
      "\u001b[1;36m  File \u001b[1;32m\"<ipython-input-23-b0931901910a>\"\u001b[1;36m, line \u001b[1;32m1\u001b[0m\n\u001b[1;33m    is for commenting the line in python\u001b[0m\n\u001b[1;37m    ^\u001b[0m\n\u001b[1;31mSyntaxError\u001b[0m\u001b[1;31m:\u001b[0m invalid syntax\n"
     ]
    }
   ],
   "source": [
    "is for commenting the line in python"
   ]
  },
  {
   "cell_type": "code",
   "execution_count": null,
   "id": "e9635fb9",
   "metadata": {},
   "outputs": [],
   "source": []
  },
  {
   "cell_type": "code",
   "execution_count": null,
   "id": "14ddc270",
   "metadata": {},
   "outputs": [],
   "source": [
    "-----------------------------------------------> Introduction to string methods <-----------------------------------------------"
   ]
  },
  {
   "cell_type": "code",
   "execution_count": null,
   "id": "7038d9a4",
   "metadata": {},
   "outputs": [],
   "source": [
    "Methods are builtin programs that are readily available to use in python."
   ]
  },
  {
   "cell_type": "code",
   "execution_count": 24,
   "id": "27e510c9",
   "metadata": {},
   "outputs": [
    {
     "data": {
      "text/plain": [
       "str"
      ]
     },
     "execution_count": 24,
     "metadata": {},
     "output_type": "execute_result"
    }
   ],
   "source": [
    "type(name)"
   ]
  },
  {
   "cell_type": "code",
   "execution_count": 25,
   "id": "acec6406",
   "metadata": {},
   "outputs": [
    {
     "data": {
      "text/plain": [
       "str"
      ]
     },
     "execution_count": 25,
     "metadata": {},
     "output_type": "execute_result"
    }
   ],
   "source": [
    "type(name2)"
   ]
  },
  {
   "cell_type": "code",
   "execution_count": 26,
   "id": "b256728b",
   "metadata": {},
   "outputs": [
    {
     "data": {
      "text/plain": [
       "str"
      ]
     },
     "execution_count": 26,
     "metadata": {},
     "output_type": "execute_result"
    }
   ],
   "source": [
    "type(name3)"
   ]
  },
  {
   "cell_type": "code",
   "execution_count": null,
   "id": "9baa5500",
   "metadata": {},
   "outputs": [],
   "source": [
    "Type method will be helping us to validate the data type."
   ]
  },
  {
   "cell_type": "code",
   "execution_count": null,
   "id": "ddbe9df0",
   "metadata": {},
   "outputs": [],
   "source": [
    "Note :- Python is a case sensitive language."
   ]
  }
 ],
 "metadata": {
  "kernelspec": {
   "display_name": "Python 3",
   "language": "python",
   "name": "python3"
  },
  "language_info": {
   "codemirror_mode": {
    "name": "ipython",
    "version": 3
   },
   "file_extension": ".py",
   "mimetype": "text/x-python",
   "name": "python",
   "nbconvert_exporter": "python",
   "pygments_lexer": "ipython3",
   "version": "3.8.8"
  }
 },
 "nbformat": 4,
 "nbformat_minor": 5
}
