{
 "cells": [
  {
   "cell_type": "code",
   "execution_count": null,
   "id": "fa1a528d",
   "metadata": {},
   "outputs": [],
   "source": [
    "-------------------------------------------> Introduction to Conditional Statements <-------------------------------------------"
   ]
  },
  {
   "cell_type": "code",
   "execution_count": null,
   "id": "7214cdbd",
   "metadata": {},
   "outputs": [],
   "source": [
    "By occurance of certain condition output will be decided."
   ]
  },
  {
   "cell_type": "code",
   "execution_count": null,
   "id": "685c1ba6",
   "metadata": {},
   "outputs": [],
   "source": []
  },
  {
   "cell_type": "code",
   "execution_count": 4,
   "id": "5b1b5d67",
   "metadata": {},
   "outputs": [],
   "source": [
    "cars = ['audi','bmw','lamborghini','dzire','maruti','innova']"
   ]
  },
  {
   "cell_type": "code",
   "execution_count": 5,
   "id": "68517721",
   "metadata": {},
   "outputs": [
    {
     "name": "stdout",
     "output_type": "stream",
     "text": [
      "['audi', 'bmw', 'lamborghini', 'dzire', 'maruti', 'innova']\n"
     ]
    }
   ],
   "source": [
    "print(cars)"
   ]
  },
  {
   "cell_type": "code",
   "execution_count": null,
   "id": "5417d6e2",
   "metadata": {},
   "outputs": [],
   "source": []
  },
  {
   "cell_type": "code",
   "execution_count": null,
   "id": "56b48500",
   "metadata": {},
   "outputs": [],
   "source": [
    "# req : i want to print all the cars in the title case , except in want to bmw in capitals how to do ?"
   ]
  },
  {
   "cell_type": "code",
   "execution_count": null,
   "id": "e8bfc61b",
   "metadata": {},
   "outputs": [],
   "source": []
  },
  {
   "cell_type": "code",
   "execution_count": null,
   "id": "88887dcd",
   "metadata": {},
   "outputs": [],
   "source": [
    "for tempvar in mainvar:\n",
    "    print(tempvar)"
   ]
  },
  {
   "cell_type": "code",
   "execution_count": 8,
   "id": "a4ab0046",
   "metadata": {},
   "outputs": [
    {
     "name": "stdout",
     "output_type": "stream",
     "text": [
      "Audi\n",
      "BMW\n",
      "Lamborghini\n",
      "Dzire\n",
      "Maruti\n",
      "Innova\n"
     ]
    }
   ],
   "source": [
    "for x in cars:\n",
    "    if x == 'bmw':\n",
    "        print(x.upper())\n",
    "    else:\n",
    "        print(x.title())"
   ]
  },
  {
   "cell_type": "code",
   "execution_count": null,
   "id": "cda8ed6f",
   "metadata": {},
   "outputs": [],
   "source": []
  },
  {
   "cell_type": "code",
   "execution_count": null,
   "id": "bb0bf1ca",
   "metadata": {},
   "outputs": [],
   "source": [
    "Accepting the user input:"
   ]
  },
  {
   "cell_type": "code",
   "execution_count": null,
   "id": "501c8f20",
   "metadata": {},
   "outputs": [],
   "source": [
    "input -----> is the keyword that we will be using."
   ]
  },
  {
   "cell_type": "code",
   "execution_count": null,
   "id": "5ad1605a",
   "metadata": {},
   "outputs": [],
   "source": []
  },
  {
   "cell_type": "code",
   "execution_count": 9,
   "id": "01613f93",
   "metadata": {},
   "outputs": [
    {
     "name": "stdout",
     "output_type": "stream",
     "text": [
      "Tell me something and i will repeat it back for you Hello\n",
      "Hello\n"
     ]
    }
   ],
   "source": [
    "message = input(\"Tell me something and i will repeat it back for you \")\n",
    "\n",
    "print(message)"
   ]
  },
  {
   "cell_type": "code",
   "execution_count": null,
   "id": "00e3770b",
   "metadata": {},
   "outputs": [],
   "source": [
    "# req : greeting the user."
   ]
  },
  {
   "cell_type": "code",
   "execution_count": 10,
   "id": "f86fe687",
   "metadata": {},
   "outputs": [
    {
     "name": "stdout",
     "output_type": "stream",
     "text": [
      "please enter your fullname: Ansh Bhardwaj\n",
      "Hello welcome to Amazon website, Ansh Bhardwaj\n"
     ]
    }
   ],
   "source": [
    "prompt = input(\"please enter your fullname: \")\n",
    "\n",
    "print(f\"Hello welcome to Amazon website, {prompt}\")"
   ]
  },
  {
   "cell_type": "code",
   "execution_count": null,
   "id": "bea2af8e",
   "metadata": {},
   "outputs": [],
   "source": []
  },
  {
   "cell_type": "code",
   "execution_count": null,
   "id": "097f3270",
   "metadata": {},
   "outputs": [],
   "source": [
    "Note : By default input method takes the text as a string data type."
   ]
  },
  {
   "cell_type": "code",
   "execution_count": null,
   "id": "52d013f2",
   "metadata": {},
   "outputs": [],
   "source": []
  },
  {
   "cell_type": "code",
   "execution_count": 12,
   "id": "a2d3977b",
   "metadata": {},
   "outputs": [
    {
     "name": "stdout",
     "output_type": "stream",
     "text": [
      "please enter your age17\n",
      "17\n"
     ]
    }
   ],
   "source": [
    "age = input(\"please enter your age\")\n",
    "\n",
    "print(age)"
   ]
  },
  {
   "cell_type": "code",
   "execution_count": null,
   "id": "e1582adf",
   "metadata": {},
   "outputs": [],
   "source": [
    "# req : to validate the age."
   ]
  },
  {
   "cell_type": "code",
   "execution_count": 13,
   "id": "a2019eff",
   "metadata": {},
   "outputs": [
    {
     "ename": "TypeError",
     "evalue": "'>' not supported between instances of 'str' and 'int'",
     "output_type": "error",
     "traceback": [
      "\u001b[1;31m---------------------------------------------------------------------------\u001b[0m",
      "\u001b[1;31mTypeError\u001b[0m                                 Traceback (most recent call last)",
      "\u001b[1;32m<ipython-input-13-f249b2a2421b>\u001b[0m in \u001b[0;36m<module>\u001b[1;34m\u001b[0m\n\u001b[1;32m----> 1\u001b[1;33m \u001b[0mage\u001b[0m \u001b[1;33m>\u001b[0m \u001b[1;36m18\u001b[0m\u001b[1;33m\u001b[0m\u001b[1;33m\u001b[0m\u001b[0m\n\u001b[0m",
      "\u001b[1;31mTypeError\u001b[0m: '>' not supported between instances of 'str' and 'int'"
     ]
    }
   ],
   "source": [
    "age > 18"
   ]
  },
  {
   "cell_type": "code",
   "execution_count": 14,
   "id": "7acd82a3",
   "metadata": {},
   "outputs": [
    {
     "data": {
      "text/plain": [
       "str"
      ]
     },
     "execution_count": 14,
     "metadata": {},
     "output_type": "execute_result"
    }
   ],
   "source": [
    "type(age)"
   ]
  },
  {
   "cell_type": "code",
   "execution_count": null,
   "id": "17e57b0e",
   "metadata": {},
   "outputs": [],
   "source": []
  },
  {
   "cell_type": "code",
   "execution_count": null,
   "id": "395821ff",
   "metadata": {},
   "outputs": [],
   "source": [
    "typecasting of datatypes:\n",
    "    \n",
    "Converting the data from one data type to another data type:    "
   ]
  },
  {
   "cell_type": "code",
   "execution_count": 15,
   "id": "a2a23d1e",
   "metadata": {},
   "outputs": [
    {
     "name": "stdout",
     "output_type": "stream",
     "text": [
      "please enter your age17\n"
     ]
    }
   ],
   "source": [
    "age = input(\"please enter your age\")\n",
    "\n",
    "age = int(age)"
   ]
  },
  {
   "cell_type": "code",
   "execution_count": 16,
   "id": "61de3ca6",
   "metadata": {},
   "outputs": [
    {
     "data": {
      "text/plain": [
       "False"
      ]
     },
     "execution_count": 16,
     "metadata": {},
     "output_type": "execute_result"
    }
   ],
   "source": [
    "age > 18"
   ]
  },
  {
   "cell_type": "code",
   "execution_count": 17,
   "id": "e0f0e2fd",
   "metadata": {},
   "outputs": [
    {
     "data": {
      "text/plain": [
       "int"
      ]
     },
     "execution_count": 17,
     "metadata": {},
     "output_type": "execute_result"
    }
   ],
   "source": [
    "type(age)"
   ]
  },
  {
   "cell_type": "code",
   "execution_count": null,
   "id": "da722087",
   "metadata": {},
   "outputs": [],
   "source": []
  },
  {
   "cell_type": "code",
   "execution_count": null,
   "id": "211070f4",
   "metadata": {},
   "outputs": [],
   "source": [
    "# Building a simple voting application."
   ]
  },
  {
   "cell_type": "code",
   "execution_count": null,
   "id": "d79296ce",
   "metadata": {},
   "outputs": [],
   "source": []
  },
  {
   "cell_type": "code",
   "execution_count": 22,
   "id": "071c59b0",
   "metadata": {},
   "outputs": [
    {
     "name": "stdout",
     "output_type": "stream",
     "text": [
      "please enter your age22\n",
      "you are eligible to vote\n"
     ]
    }
   ],
   "source": [
    "age = input(\"please enter your age\")\n",
    "age = int(age)\n",
    "\n",
    "if age >= 18:\n",
    "    print(\"you are eligible to vote\")\n",
    "else:\n",
    "    print(\"you are not eligible to vote\")"
   ]
  },
  {
   "cell_type": "code",
   "execution_count": null,
   "id": "96cb780c",
   "metadata": {},
   "outputs": [],
   "source": []
  }
 ],
 "metadata": {
  "kernelspec": {
   "display_name": "Python 3",
   "language": "python",
   "name": "python3"
  },
  "language_info": {
   "codemirror_mode": {
    "name": "ipython",
    "version": 3
   },
   "file_extension": ".py",
   "mimetype": "text/x-python",
   "name": "python",
   "nbconvert_exporter": "python",
   "pygments_lexer": "ipython3",
   "version": "3.8.8"
  }
 },
 "nbformat": 4,
 "nbformat_minor": 5
}
