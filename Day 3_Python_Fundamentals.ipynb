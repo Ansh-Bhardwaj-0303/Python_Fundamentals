{
 "cells": [
  {
   "cell_type": "code",
   "execution_count": 1,
   "id": "960589a3",
   "metadata": {},
   "outputs": [
    {
     "name": "stdout",
     "output_type": "stream",
     "text": [
      "ansh bhardwaj\n"
     ]
    }
   ],
   "source": [
    "fullname = 'ansh bhardwaj'\n",
    "\n",
    "print(fullname)"
   ]
  },
  {
   "cell_type": "code",
   "execution_count": null,
   "id": "efe331ac",
   "metadata": {},
   "outputs": [],
   "source": []
  },
  {
   "cell_type": "code",
   "execution_count": 3,
   "id": "d697a695",
   "metadata": {},
   "outputs": [
    {
     "name": "stdout",
     "output_type": "stream",
     "text": [
      "Ansh Bhardwaj\n"
     ]
    }
   ],
   "source": [
    "print(fullname.title())"
   ]
  },
  {
   "cell_type": "code",
   "execution_count": null,
   "id": "431d504d",
   "metadata": {},
   "outputs": [],
   "source": []
  },
  {
   "cell_type": "code",
   "execution_count": null,
   "id": "43b98ceb",
   "metadata": {},
   "outputs": [],
   "source": [
    "# req : i want to have the fullname in capital letters."
   ]
  },
  {
   "cell_type": "code",
   "execution_count": 4,
   "id": "615a9bf2",
   "metadata": {},
   "outputs": [
    {
     "name": "stdout",
     "output_type": "stream",
     "text": [
      "ANSH BHARDWAJ\n"
     ]
    }
   ],
   "source": [
    "print(fullname.upper())"
   ]
  },
  {
   "cell_type": "code",
   "execution_count": null,
   "id": "b111cda0",
   "metadata": {},
   "outputs": [],
   "source": []
  },
  {
   "cell_type": "code",
   "execution_count": null,
   "id": "43209487",
   "metadata": {},
   "outputs": [],
   "source": [
    "# req : i want to have the fullname in small letters."
   ]
  },
  {
   "cell_type": "code",
   "execution_count": 5,
   "id": "11324e4f",
   "metadata": {},
   "outputs": [
    {
     "name": "stdout",
     "output_type": "stream",
     "text": [
      "ansh bhardwaj\n"
     ]
    }
   ],
   "source": [
    "print(fullname.lower())"
   ]
  },
  {
   "cell_type": "code",
   "execution_count": null,
   "id": "7bbb0398",
   "metadata": {},
   "outputs": [],
   "source": []
  },
  {
   "cell_type": "code",
   "execution_count": null,
   "id": "b9bf00b2",
   "metadata": {},
   "outputs": [],
   "source": [
    "# req : i want to get the fullname name.....?"
   ]
  },
  {
   "cell_type": "code",
   "execution_count": null,
   "id": "c34dc7ba",
   "metadata": {},
   "outputs": [],
   "source": []
  },
  {
   "cell_type": "code",
   "execution_count": null,
   "id": "b2fb37bc",
   "metadata": {},
   "outputs": [],
   "source": [
    "-----------------------------------------------> Introductions to f strings ** <-----------------------------------------------"
   ]
  },
  {
   "cell_type": "code",
   "execution_count": null,
   "id": "ed6b3f23",
   "metadata": {},
   "outputs": [],
   "source": [
    "# genral syntax of an f strings"
   ]
  },
  {
   "cell_type": "code",
   "execution_count": null,
   "id": "f0d36380",
   "metadata": {},
   "outputs": [],
   "source": [
    "f\"custom words, {placeholder1} {placeholder2}..............{placeholder..n}\""
   ]
  },
  {
   "cell_type": "code",
   "execution_count": null,
   "id": "8e03f9ba",
   "metadata": {},
   "outputs": [],
   "source": []
  },
  {
   "cell_type": "code",
   "execution_count": 14,
   "id": "7bc9fd9c",
   "metadata": {},
   "outputs": [
    {
     "name": "stdout",
     "output_type": "stream",
     "text": [
      "ayush singh\n"
     ]
    }
   ],
   "source": [
    "firstname = 'ayush'\n",
    "\n",
    "lastname = 'singh'\n",
    "\n",
    "fullname = f\"{firstname} {lastname}\"\n",
    "\n",
    "print(fullname)"
   ]
  },
  {
   "cell_type": "code",
   "execution_count": 15,
   "id": "0be836d1",
   "metadata": {},
   "outputs": [
    {
     "name": "stdout",
     "output_type": "stream",
     "text": [
      "Ayush Singh\n"
     ]
    }
   ],
   "source": [
    "print(fullname.title())"
   ]
  },
  {
   "cell_type": "code",
   "execution_count": null,
   "id": "9d141700",
   "metadata": {},
   "outputs": [],
   "source": [
    "# req : to appreciate ayush"
   ]
  },
  {
   "cell_type": "code",
   "execution_count": 16,
   "id": "711ec264",
   "metadata": {},
   "outputs": [
    {
     "name": "stdout",
     "output_type": "stream",
     "text": [
      "Keep up the good work, Ayush Singh\n"
     ]
    }
   ],
   "source": [
    "message = f\"Keep up the good work, {fullname.title()}\"\n",
    "\n",
    "print(message)"
   ]
  },
  {
   "cell_type": "code",
   "execution_count": null,
   "id": "919c2c8a",
   "metadata": {},
   "outputs": [],
   "source": []
  },
  {
   "cell_type": "code",
   "execution_count": null,
   "id": "be634faf",
   "metadata": {},
   "outputs": [],
   "source": [
    "Adding whitespaces to strings :"
   ]
  },
  {
   "cell_type": "code",
   "execution_count": null,
   "id": "d30d2121",
   "metadata": {},
   "outputs": [],
   "source": []
  },
  {
   "cell_type": "code",
   "execution_count": null,
   "id": "75ebb409",
   "metadata": {},
   "outputs": [],
   "source": [
    "# req : survey to choose the fav. prog. lang."
   ]
  },
  {
   "cell_type": "code",
   "execution_count": 17,
   "id": "d49ff12c",
   "metadata": {},
   "outputs": [
    {
     "name": "stdout",
     "output_type": "stream",
     "text": [
      "favourite_language:pythoncjavac++pascal\n"
     ]
    }
   ],
   "source": [
    "print(\"favourite_language:pythoncjavac++pascal\")"
   ]
  },
  {
   "cell_type": "code",
   "execution_count": 18,
   "id": "1906a82b",
   "metadata": {},
   "outputs": [
    {
     "name": "stdout",
     "output_type": "stream",
     "text": [
      "favourite_language:\n",
      "python\n",
      "c\n",
      "java\n",
      "c++\n",
      "pascal\n"
     ]
    }
   ],
   "source": [
    "print(\"favourite_language:\\npython\\nc\\njava\\nc++\\npascal\")"
   ]
  },
  {
   "cell_type": "code",
   "execution_count": null,
   "id": "3d3c6291",
   "metadata": {},
   "outputs": [],
   "source": [
    "\\n ------> it is called as new delimeter"
   ]
  },
  {
   "cell_type": "code",
   "execution_count": 19,
   "id": "d1ec364b",
   "metadata": {},
   "outputs": [
    {
     "name": "stdout",
     "output_type": "stream",
     "text": [
      "favourite_language:\n",
      "\tpython\n",
      "\tc\n",
      "\tjava\n",
      "\tc++\n",
      "\tpascal\n"
     ]
    }
   ],
   "source": [
    "print(\"favourite_language:\\n\\tpython\\n\\tc\\n\\tjava\\n\\tc++\\n\\tpascal\")"
   ]
  },
  {
   "cell_type": "code",
   "execution_count": null,
   "id": "452c577a",
   "metadata": {},
   "outputs": [],
   "source": [
    "\\t ------> tab delimeter"
   ]
  },
  {
   "cell_type": "code",
   "execution_count": null,
   "id": "176a4a25",
   "metadata": {},
   "outputs": [],
   "source": []
  },
  {
   "cell_type": "code",
   "execution_count": null,
   "id": "8c1e5a10",
   "metadata": {},
   "outputs": [],
   "source": []
  },
  {
   "cell_type": "code",
   "execution_count": 21,
   "id": "b47cd404",
   "metadata": {},
   "outputs": [
    {
     "name": "stdout",
     "output_type": "stream",
     "text": [
      "   Abhishek\n"
     ]
    }
   ],
   "source": [
    "name1 = \"   Abhishek\"    # left side\n",
    "\n",
    "print(name1)"
   ]
  },
  {
   "cell_type": "code",
   "execution_count": 22,
   "id": "e0fb456a",
   "metadata": {},
   "outputs": [
    {
     "name": "stdout",
     "output_type": "stream",
     "text": [
      "Abhishek   \n"
     ]
    }
   ],
   "source": [
    "name2 = \"Abhishek   \"    # right side\n",
    "\n",
    "print(name2)"
   ]
  },
  {
   "cell_type": "code",
   "execution_count": null,
   "id": "9f9eba22",
   "metadata": {},
   "outputs": [],
   "source": []
  },
  {
   "cell_type": "code",
   "execution_count": 23,
   "id": "5743b9a0",
   "metadata": {},
   "outputs": [
    {
     "name": "stdout",
     "output_type": "stream",
     "text": [
      "Abhishek\n"
     ]
    }
   ],
   "source": [
    "print(name1.lstrip())    # only left check"
   ]
  },
  {
   "cell_type": "code",
   "execution_count": 25,
   "id": "883e04f4",
   "metadata": {},
   "outputs": [
    {
     "name": "stdout",
     "output_type": "stream",
     "text": [
      "Abhishek\n"
     ]
    }
   ],
   "source": [
    "print(name2.rstrip())    # only right check"
   ]
  },
  {
   "cell_type": "code",
   "execution_count": 26,
   "id": "25bdd152",
   "metadata": {},
   "outputs": [
    {
     "name": "stdout",
     "output_type": "stream",
     "text": [
      "   Shivansh   \n"
     ]
    }
   ],
   "source": [
    "name3 = \"   Shivansh   \"\n",
    "\n",
    "print(name3)"
   ]
  },
  {
   "cell_type": "code",
   "execution_count": 27,
   "id": "61f00b2e",
   "metadata": {},
   "outputs": [
    {
     "name": "stdout",
     "output_type": "stream",
     "text": [
      "Shivansh\n"
     ]
    }
   ],
   "source": [
    "print(name3.strip())    # check on the both side and then elimate the gap......"
   ]
  },
  {
   "cell_type": "code",
   "execution_count": null,
   "id": "584b2b95",
   "metadata": {},
   "outputs": [],
   "source": []
  }
 ],
 "metadata": {
  "kernelspec": {
   "display_name": "Python 3",
   "language": "python",
   "name": "python3"
  },
  "language_info": {
   "codemirror_mode": {
    "name": "ipython",
    "version": 3
   },
   "file_extension": ".py",
   "mimetype": "text/x-python",
   "name": "python",
   "nbconvert_exporter": "python",
   "pygments_lexer": "ipython3",
   "version": "3.8.8"
  }
 },
 "nbformat": 4,
 "nbformat_minor": 5
}
