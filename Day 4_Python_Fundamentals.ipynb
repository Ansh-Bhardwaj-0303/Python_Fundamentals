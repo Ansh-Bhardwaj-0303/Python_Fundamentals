{
 "cells": [
  {
   "cell_type": "code",
   "execution_count": null,
   "id": "1ec55070",
   "metadata": {},
   "outputs": [],
   "source": [
    "-----------------------------------------------> Introduction to List datatype <-----------------------------------------------"
   ]
  },
  {
   "cell_type": "code",
   "execution_count": null,
   "id": "cb644632",
   "metadata": {},
   "outputs": [],
   "source": [
    "definition :- A list ia collection of items in a particular order.\n",
    "    \n",
    "classification :- It is classified as a mutable datatype.\n",
    "    \n",
    "\n",
    "how do you declare a list. -----> [] =====> square brackets.    "
   ]
  },
  {
   "cell_type": "code",
   "execution_count": null,
   "id": "0e8c16c4",
   "metadata": {},
   "outputs": [],
   "source": []
  },
  {
   "cell_type": "code",
   "execution_count": 2,
   "id": "f3e5918a",
   "metadata": {},
   "outputs": [
    {
     "name": "stdout",
     "output_type": "stream",
     "text": [
      "['ansh', 'shivansh', 'ayush', 'anshika', 'priyanka']\n"
     ]
    }
   ],
   "source": [
    "students = ['ansh','shivansh','ayush','anshika','priyanka']\n",
    "\n",
    "print(students)"
   ]
  },
  {
   "cell_type": "code",
   "execution_count": null,
   "id": "5200a160",
   "metadata": {},
   "outputs": [],
   "source": []
  },
  {
   "cell_type": "code",
   "execution_count": 3,
   "id": "e04e6b43",
   "metadata": {},
   "outputs": [
    {
     "data": {
      "text/plain": [
       "list"
      ]
     },
     "execution_count": 3,
     "metadata": {},
     "output_type": "execute_result"
    }
   ],
   "source": [
    "type(students)"
   ]
  },
  {
   "cell_type": "code",
   "execution_count": null,
   "id": "6650ef5a",
   "metadata": {},
   "outputs": [],
   "source": []
  },
  {
   "cell_type": "code",
   "execution_count": 4,
   "id": "86cb947f",
   "metadata": {},
   "outputs": [
    {
     "name": "stdout",
     "output_type": "stream",
     "text": [
      "['ansh', 'shivansh', 'ayush', 'anshika', 'priyanka']\n"
     ]
    }
   ],
   "source": [
    "print(students)"
   ]
  },
  {
   "cell_type": "code",
   "execution_count": null,
   "id": "dfb480bd",
   "metadata": {},
   "outputs": [],
   "source": []
  },
  {
   "cell_type": "code",
   "execution_count": null,
   "id": "6bbea0c0",
   "metadata": {},
   "outputs": [],
   "source": [
    "# req : how to access the elements from the list.....?"
   ]
  },
  {
   "cell_type": "code",
   "execution_count": null,
   "id": "ce6677d3",
   "metadata": {},
   "outputs": [],
   "source": []
  },
  {
   "cell_type": "code",
   "execution_count": null,
   "id": "a3e90c91",
   "metadata": {},
   "outputs": [],
   "source": [
    "indexing : 0,1,2,3,4,5......."
   ]
  },
  {
   "cell_type": "code",
   "execution_count": 5,
   "id": "7d26cf28",
   "metadata": {},
   "outputs": [
    {
     "name": "stdout",
     "output_type": "stream",
     "text": [
      "shivansh\n"
     ]
    }
   ],
   "source": [
    "print(students[1])"
   ]
  },
  {
   "cell_type": "code",
   "execution_count": 6,
   "id": "04341b2f",
   "metadata": {},
   "outputs": [
    {
     "name": "stdout",
     "output_type": "stream",
     "text": [
      "anshika\n"
     ]
    }
   ],
   "source": [
    "print(students[3])"
   ]
  },
  {
   "cell_type": "code",
   "execution_count": null,
   "id": "b310ae6f",
   "metadata": {},
   "outputs": [],
   "source": []
  },
  {
   "cell_type": "code",
   "execution_count": null,
   "id": "2934eb1e",
   "metadata": {},
   "outputs": [],
   "source": [
    "1. how to add new elements to a list.\n",
    "\n",
    "2.how to modify the elements in the list.\n",
    "\n",
    "3. how to delete the elements in the list."
   ]
  },
  {
   "cell_type": "code",
   "execution_count": null,
   "id": "6c582090",
   "metadata": {},
   "outputs": [],
   "source": []
  },
  {
   "cell_type": "code",
   "execution_count": 13,
   "id": "83af5873",
   "metadata": {},
   "outputs": [
    {
     "name": "stdout",
     "output_type": "stream",
     "text": [
      "['ansh', 'shivansh', 'ayush', 'anshika', 'priyanka', 'varun', 'varun', 'varun', 'varun']\n"
     ]
    }
   ],
   "source": [
    "print(students)"
   ]
  },
  {
   "cell_type": "code",
   "execution_count": null,
   "id": "d70af0db",
   "metadata": {},
   "outputs": [],
   "source": [
    "# req : i want to add varun to the above list?"
   ]
  },
  {
   "cell_type": "code",
   "execution_count": null,
   "id": "43797ae1",
   "metadata": {},
   "outputs": [],
   "source": []
  },
  {
   "cell_type": "code",
   "execution_count": 17,
   "id": "cefe1761",
   "metadata": {},
   "outputs": [],
   "source": [
    "students.append('varun')"
   ]
  },
  {
   "cell_type": "code",
   "execution_count": 18,
   "id": "f66f90ec",
   "metadata": {},
   "outputs": [
    {
     "name": "stdout",
     "output_type": "stream",
     "text": [
      "['ansh', 'shivansh', 'ayush', 'anshika', 'priyanka', 'varun']\n"
     ]
    }
   ],
   "source": [
    "print(students)"
   ]
  },
  {
   "cell_type": "code",
   "execution_count": 19,
   "id": "efdc0a61",
   "metadata": {},
   "outputs": [],
   "source": [
    "students.append('piyush')"
   ]
  },
  {
   "cell_type": "code",
   "execution_count": 20,
   "id": "7862a7c3",
   "metadata": {},
   "outputs": [
    {
     "name": "stdout",
     "output_type": "stream",
     "text": [
      "['ansh', 'shivansh', 'ayush', 'anshika', 'priyanka', 'varun', 'piyush']\n"
     ]
    }
   ],
   "source": [
    "print(students)"
   ]
  },
  {
   "cell_type": "code",
   "execution_count": null,
   "id": "ce6eaad5",
   "metadata": {},
   "outputs": [],
   "source": []
  },
  {
   "cell_type": "code",
   "execution_count": null,
   "id": "df389270",
   "metadata": {},
   "outputs": [],
   "source": [
    "# req : i want to add vanya to 2nd index?"
   ]
  },
  {
   "cell_type": "code",
   "execution_count": 24,
   "id": "c06dbd51",
   "metadata": {},
   "outputs": [],
   "source": [
    "students.insert(2,'vanya')"
   ]
  },
  {
   "cell_type": "code",
   "execution_count": 25,
   "id": "14e7a7c9",
   "metadata": {},
   "outputs": [
    {
     "name": "stdout",
     "output_type": "stream",
     "text": [
      "['ansh', 'shivansh', 'vanya', 'ayush', 'anshika', 'priyanka', 'varun', 'piyush']\n"
     ]
    }
   ],
   "source": [
    "print(students)"
   ]
  },
  {
   "cell_type": "code",
   "execution_count": 26,
   "id": "4bd21f43",
   "metadata": {},
   "outputs": [
    {
     "name": "stdout",
     "output_type": "stream",
     "text": [
      "vanya\n"
     ]
    }
   ],
   "source": [
    "print(students[2])"
   ]
  },
  {
   "cell_type": "code",
   "execution_count": null,
   "id": "07600d9f",
   "metadata": {},
   "outputs": [],
   "source": []
  },
  {
   "cell_type": "code",
   "execution_count": null,
   "id": "e67820c8",
   "metadata": {},
   "outputs": [],
   "source": [
    "interview questions : what is the diff. b/w append and insert in a list? can you explain? "
   ]
  },
  {
   "cell_type": "code",
   "execution_count": null,
   "id": "8ab2942d",
   "metadata": {},
   "outputs": [],
   "source": []
  },
  {
   "cell_type": "code",
   "execution_count": null,
   "id": "745e233f",
   "metadata": {},
   "outputs": [],
   "source": [
    "how to modify elements in the list?"
   ]
  },
  {
   "cell_type": "code",
   "execution_count": 27,
   "id": "c965df97",
   "metadata": {},
   "outputs": [
    {
     "name": "stdout",
     "output_type": "stream",
     "text": [
      "['ansh', 'shivansh', 'vanya', 'ayush', 'anshika', 'priyanka', 'varun', 'piyush']\n"
     ]
    }
   ],
   "source": [
    "print(students)"
   ]
  },
  {
   "cell_type": "code",
   "execution_count": null,
   "id": "3dc967fc",
   "metadata": {},
   "outputs": [],
   "source": [
    "# req : i want to modify ayush name to priyank?"
   ]
  },
  {
   "cell_type": "code",
   "execution_count": 28,
   "id": "8de1b214",
   "metadata": {},
   "outputs": [],
   "source": [
    "students[3]='priyank'"
   ]
  },
  {
   "cell_type": "code",
   "execution_count": 29,
   "id": "680b9e8c",
   "metadata": {},
   "outputs": [
    {
     "name": "stdout",
     "output_type": "stream",
     "text": [
      "['ansh', 'shivansh', 'vanya', 'priyank', 'anshika', 'priyanka', 'varun', 'piyush']\n"
     ]
    }
   ],
   "source": [
    "print(students)"
   ]
  },
  {
   "cell_type": "code",
   "execution_count": null,
   "id": "abf82189",
   "metadata": {},
   "outputs": [],
   "source": []
  },
  {
   "cell_type": "code",
   "execution_count": null,
   "id": "37a89d12",
   "metadata": {},
   "outputs": [],
   "source": [
    "3. how to delete the elements in a list?"
   ]
  },
  {
   "cell_type": "code",
   "execution_count": 30,
   "id": "6cb157db",
   "metadata": {},
   "outputs": [
    {
     "name": "stdout",
     "output_type": "stream",
     "text": [
      "['ansh', 'shivansh', 'vanya', 'priyank', 'anshika', 'priyanka', 'varun', 'piyush']\n"
     ]
    }
   ],
   "source": [
    "print(students)"
   ]
  },
  {
   "cell_type": "code",
   "execution_count": null,
   "id": "91565bc5",
   "metadata": {},
   "outputs": [],
   "source": [
    "# req : i want to delete varun name in the list?"
   ]
  },
  {
   "cell_type": "code",
   "execution_count": 31,
   "id": "f2a867ba",
   "metadata": {},
   "outputs": [],
   "source": [
    "del students[6]"
   ]
  },
  {
   "cell_type": "code",
   "execution_count": 32,
   "id": "22e31451",
   "metadata": {},
   "outputs": [
    {
     "name": "stdout",
     "output_type": "stream",
     "text": [
      "['ansh', 'shivansh', 'vanya', 'priyank', 'anshika', 'priyanka', 'piyush']\n"
     ]
    }
   ],
   "source": [
    "print(students)"
   ]
  },
  {
   "cell_type": "code",
   "execution_count": null,
   "id": "84bd0ae4",
   "metadata": {},
   "outputs": [],
   "source": []
  }
 ],
 "metadata": {
  "kernelspec": {
   "display_name": "Python 3",
   "language": "python",
   "name": "python3"
  },
  "language_info": {
   "codemirror_mode": {
    "name": "ipython",
    "version": 3
   },
   "file_extension": ".py",
   "mimetype": "text/x-python",
   "name": "python",
   "nbconvert_exporter": "python",
   "pygments_lexer": "ipython3",
   "version": "3.8.8"
  }
 },
 "nbformat": 4,
 "nbformat_minor": 5
}
