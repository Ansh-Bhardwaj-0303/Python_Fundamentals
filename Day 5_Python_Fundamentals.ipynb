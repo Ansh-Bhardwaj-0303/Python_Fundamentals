{
 "cells": [
  {
   "cell_type": "code",
   "execution_count": null,
   "id": "1d00ace7",
   "metadata": {},
   "outputs": [],
   "source": [
    "----------------------------------------------------> Organising the list <----------------------------------------------------"
   ]
  },
  {
   "cell_type": "code",
   "execution_count": 1,
   "id": "5359ac45",
   "metadata": {},
   "outputs": [],
   "source": [
    "cars = ['audi','bmw','benz','suzuki','dzire','lamborghini']"
   ]
  },
  {
   "cell_type": "code",
   "execution_count": 2,
   "id": "86143d4e",
   "metadata": {},
   "outputs": [
    {
     "name": "stdout",
     "output_type": "stream",
     "text": [
      "['audi', 'bmw', 'benz', 'suzuki', 'dzire', 'lamborghini']\n"
     ]
    }
   ],
   "source": [
    "print(cars)"
   ]
  },
  {
   "cell_type": "code",
   "execution_count": 3,
   "id": "6b0b2e40",
   "metadata": {},
   "outputs": [
    {
     "data": {
      "text/plain": [
       "list"
      ]
     },
     "execution_count": 3,
     "metadata": {},
     "output_type": "execute_result"
    }
   ],
   "source": [
    "type(cars)"
   ]
  },
  {
   "cell_type": "code",
   "execution_count": null,
   "id": "a82ff9c1",
   "metadata": {},
   "outputs": [],
   "source": []
  },
  {
   "cell_type": "code",
   "execution_count": null,
   "id": "6aeea8f2",
   "metadata": {},
   "outputs": [],
   "source": [
    "# req : i want to organize the above cars list in a alphabetical order ------ A - Z order"
   ]
  },
  {
   "cell_type": "code",
   "execution_count": null,
   "id": "eb24e161",
   "metadata": {},
   "outputs": [],
   "source": [
    "2 possible approaches:\n",
    "    1. temp approach -----> we can able to maintain the original of the list. =======> sorted\n",
    "    2. per approach -----> changes arr fixed , can't go back to the original order. =======> sort "
   ]
  },
  {
   "cell_type": "code",
   "execution_count": null,
   "id": "dd44eaa7",
   "metadata": {},
   "outputs": [],
   "source": []
  },
  {
   "cell_type": "code",
   "execution_count": 4,
   "id": "ed063459",
   "metadata": {},
   "outputs": [
    {
     "name": "stdout",
     "output_type": "stream",
     "text": [
      "['audi', 'benz', 'bmw', 'dzire', 'lamborghini', 'suzuki']\n"
     ]
    }
   ],
   "source": [
    "# temp approach. ----> 1. A -----> Z \n",
    "\n",
    "print(sorted(cars))"
   ]
  },
  {
   "cell_type": "code",
   "execution_count": null,
   "id": "bd083b41",
   "metadata": {},
   "outputs": [],
   "source": []
  },
  {
   "cell_type": "code",
   "execution_count": 5,
   "id": "d82e3082",
   "metadata": {},
   "outputs": [
    {
     "name": "stdout",
     "output_type": "stream",
     "text": [
      "['audi', 'bmw', 'benz', 'suzuki', 'dzire', 'lamborghini']\n"
     ]
    }
   ],
   "source": [
    "print(cars) # this is the original order"
   ]
  },
  {
   "cell_type": "code",
   "execution_count": null,
   "id": "87b25b2c",
   "metadata": {},
   "outputs": [],
   "source": []
  },
  {
   "cell_type": "code",
   "execution_count": null,
   "id": "3a53c04b",
   "metadata": {},
   "outputs": [],
   "source": [
    "benz , bmw =====> e , m"
   ]
  },
  {
   "cell_type": "code",
   "execution_count": null,
   "id": "61d1063a",
   "metadata": {},
   "outputs": [],
   "source": []
  },
  {
   "cell_type": "code",
   "execution_count": null,
   "id": "31802a5e",
   "metadata": {},
   "outputs": [],
   "source": [
    "# permanent approach :"
   ]
  },
  {
   "cell_type": "code",
   "execution_count": 6,
   "id": "af8e3afb",
   "metadata": {},
   "outputs": [],
   "source": [
    "cars.sort()"
   ]
  },
  {
   "cell_type": "code",
   "execution_count": 7,
   "id": "672c9e83",
   "metadata": {},
   "outputs": [
    {
     "name": "stdout",
     "output_type": "stream",
     "text": [
      "['audi', 'benz', 'bmw', 'dzire', 'lamborghini', 'suzuki']\n"
     ]
    }
   ],
   "source": [
    "print(cars)"
   ]
  },
  {
   "cell_type": "code",
   "execution_count": 8,
   "id": "e8581fc3",
   "metadata": {},
   "outputs": [
    {
     "name": "stdout",
     "output_type": "stream",
     "text": [
      "['audi', 'benz', 'bmw', 'dzire', 'lamborghini', 'suzuki']\n"
     ]
    }
   ],
   "source": [
    "print(cars)"
   ]
  },
  {
   "cell_type": "code",
   "execution_count": null,
   "id": "fe682d0a",
   "metadata": {},
   "outputs": [],
   "source": []
  },
  {
   "cell_type": "code",
   "execution_count": null,
   "id": "93ccd113",
   "metadata": {},
   "outputs": [],
   "source": [
    "# req : how to print a list in a reverse order.....?  *** "
   ]
  },
  {
   "cell_type": "code",
   "execution_count": 9,
   "id": "535955ea",
   "metadata": {},
   "outputs": [
    {
     "name": "stdout",
     "output_type": "stream",
     "text": [
      "['audi', 'benz', 'bmw', 'dzire', 'lamborghini', 'suzuki']\n"
     ]
    }
   ],
   "source": [
    "print(cars)"
   ]
  },
  {
   "cell_type": "code",
   "execution_count": 10,
   "id": "6090b34a",
   "metadata": {},
   "outputs": [],
   "source": [
    "cars.reverse() # the changes are applied permanently."
   ]
  },
  {
   "cell_type": "code",
   "execution_count": 11,
   "id": "aa50119f",
   "metadata": {},
   "outputs": [
    {
     "name": "stdout",
     "output_type": "stream",
     "text": [
      "['suzuki', 'lamborghini', 'dzire', 'bmw', 'benz', 'audi']\n"
     ]
    }
   ],
   "source": [
    "print(cars)"
   ]
  },
  {
   "cell_type": "code",
   "execution_count": 12,
   "id": "7978f09e",
   "metadata": {},
   "outputs": [
    {
     "name": "stdout",
     "output_type": "stream",
     "text": [
      "['suzuki', 'lamborghini', 'dzire', 'bmw', 'benz', 'audi']\n"
     ]
    }
   ],
   "source": [
    "print(cars)"
   ]
  },
  {
   "cell_type": "code",
   "execution_count": null,
   "id": "e58fd8ad",
   "metadata": {},
   "outputs": [],
   "source": []
  },
  {
   "cell_type": "code",
   "execution_count": null,
   "id": "04e018a0",
   "metadata": {},
   "outputs": [],
   "source": [
    "# to count the no. of elements in a list.....?"
   ]
  },
  {
   "cell_type": "code",
   "execution_count": 13,
   "id": "d903bfd9",
   "metadata": {},
   "outputs": [
    {
     "data": {
      "text/plain": [
       "6"
      ]
     },
     "execution_count": 13,
     "metadata": {},
     "output_type": "execute_result"
    }
   ],
   "source": [
    "len(cars)"
   ]
  },
  {
   "cell_type": "code",
   "execution_count": null,
   "id": "e632cad0",
   "metadata": {},
   "outputs": [],
   "source": []
  },
  {
   "cell_type": "code",
   "execution_count": null,
   "id": "638bf740",
   "metadata": {},
   "outputs": [],
   "source": [
    "------------------------------------------------------> Slicing of lists <------------------------------------------------------"
   ]
  },
  {
   "cell_type": "code",
   "execution_count": null,
   "id": "9158ca5d",
   "metadata": {},
   "outputs": [],
   "source": []
  },
  {
   "cell_type": "code",
   "execution_count": 16,
   "id": "9a3a22a3",
   "metadata": {},
   "outputs": [],
   "source": [
    "students = ['ansh','priyank','anshika','piyush','shamir','soumya']"
   ]
  },
  {
   "cell_type": "code",
   "execution_count": 17,
   "id": "cf5254e1",
   "metadata": {},
   "outputs": [
    {
     "name": "stdout",
     "output_type": "stream",
     "text": [
      "['ansh', 'priyank', 'anshika', 'piyush', 'shamir', 'soumya']\n"
     ]
    }
   ],
   "source": [
    "print(students)"
   ]
  },
  {
   "cell_type": "code",
   "execution_count": null,
   "id": "13ad5ffd",
   "metadata": {},
   "outputs": [],
   "source": []
  },
  {
   "cell_type": "code",
   "execution_count": null,
   "id": "58d9e755",
   "metadata": {},
   "outputs": [],
   "source": [
    "-------------------------------------------------> General Syntax of Slicing <-------------------------------------------------"
   ]
  },
  {
   "cell_type": "code",
   "execution_count": null,
   "id": "23da709e",
   "metadata": {},
   "outputs": [],
   "source": [
    "startvalue : stopvalue : stepcount =====> indexing."
   ]
  },
  {
   "cell_type": "code",
   "execution_count": null,
   "id": "0f30ead0",
   "metadata": {},
   "outputs": [],
   "source": [
    "Note : Lastvalue or stopvalue is always exclusive, that means it will be included in part of the slice."
   ]
  },
  {
   "cell_type": "code",
   "execution_count": null,
   "id": "3c20167b",
   "metadata": {},
   "outputs": [],
   "source": [
    "Note 2 : Increment the index by 1 to include the lastvalue or stopvalue."
   ]
  },
  {
   "cell_type": "code",
   "execution_count": null,
   "id": "bdb35690",
   "metadata": {},
   "outputs": [],
   "source": [
    "# req : i want to include ansh and priyank in the same slice."
   ]
  },
  {
   "cell_type": "code",
   "execution_count": 18,
   "id": "ea07a62a",
   "metadata": {},
   "outputs": [
    {
     "name": "stdout",
     "output_type": "stream",
     "text": [
      "['ansh']\n"
     ]
    }
   ],
   "source": [
    "print(students[0:1])"
   ]
  },
  {
   "cell_type": "code",
   "execution_count": 19,
   "id": "fb598933",
   "metadata": {},
   "outputs": [
    {
     "name": "stdout",
     "output_type": "stream",
     "text": [
      "['ansh', 'priyank']\n"
     ]
    }
   ],
   "source": [
    "print(students[0:2])"
   ]
  },
  {
   "cell_type": "code",
   "execution_count": null,
   "id": "01c17636",
   "metadata": {},
   "outputs": [],
   "source": [
    "# req : i want to include anshika and piyush in the same slice."
   ]
  },
  {
   "cell_type": "code",
   "execution_count": 20,
   "id": "46345995",
   "metadata": {},
   "outputs": [
    {
     "name": "stdout",
     "output_type": "stream",
     "text": [
      "['anshika', 'piyush']\n"
     ]
    }
   ],
   "source": [
    "print(students[2:4])"
   ]
  },
  {
   "cell_type": "code",
   "execution_count": null,
   "id": "417b9be9",
   "metadata": {},
   "outputs": [],
   "source": [
    "# req : i want to include shamir and soumya in the same slice."
   ]
  },
  {
   "cell_type": "code",
   "execution_count": 21,
   "id": "b9695c68",
   "metadata": {},
   "outputs": [
    {
     "name": "stdout",
     "output_type": "stream",
     "text": [
      "['shamir', 'soumya']\n"
     ]
    }
   ],
   "source": [
    "print(students[4:6])"
   ]
  },
  {
   "cell_type": "code",
   "execution_count": 23,
   "id": "a5ad43ce",
   "metadata": {},
   "outputs": [
    {
     "name": "stdout",
     "output_type": "stream",
     "text": [
      "['ansh', 'anshika', 'shamir']\n"
     ]
    }
   ],
   "source": [
    "print(students[0:6:2]) # with step value."
   ]
  },
  {
   "cell_type": "code",
   "execution_count": 24,
   "id": "bbaf21b2",
   "metadata": {},
   "outputs": [
    {
     "name": "stdout",
     "output_type": "stream",
     "text": [
      "['ansh', 'priyank', 'anshika', 'piyush', 'shamir', 'soumya']\n"
     ]
    }
   ],
   "source": [
    "print(students)"
   ]
  },
  {
   "cell_type": "code",
   "execution_count": null,
   "id": "6fbe301d",
   "metadata": {},
   "outputs": [],
   "source": []
  }
 ],
 "metadata": {
  "kernelspec": {
   "display_name": "Python 3",
   "language": "python",
   "name": "python3"
  },
  "language_info": {
   "codemirror_mode": {
    "name": "ipython",
    "version": 3
   },
   "file_extension": ".py",
   "mimetype": "text/x-python",
   "name": "python",
   "nbconvert_exporter": "python",
   "pygments_lexer": "ipython3",
   "version": "3.8.8"
  }
 },
 "nbformat": 4,
 "nbformat_minor": 5
}
