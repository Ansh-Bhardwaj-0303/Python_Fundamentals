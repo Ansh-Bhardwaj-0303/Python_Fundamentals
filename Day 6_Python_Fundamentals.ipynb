{
 "cells": [
  {
   "cell_type": "code",
   "execution_count": null,
   "id": "eb94bae3",
   "metadata": {},
   "outputs": [],
   "source": [
    "-------------------------------------------> Introduction to looping statements *** <-------------------------------------------"
   ]
  },
  {
   "cell_type": "code",
   "execution_count": null,
   "id": "1bed9188",
   "metadata": {},
   "outputs": [],
   "source": []
  },
  {
   "cell_type": "code",
   "execution_count": 1,
   "id": "fba5e7c3",
   "metadata": {},
   "outputs": [],
   "source": [
    "students = ['shamir','ansh','priyanka','piyush','soumya','anshika']"
   ]
  },
  {
   "cell_type": "code",
   "execution_count": 2,
   "id": "631a836d",
   "metadata": {},
   "outputs": [
    {
     "name": "stdout",
     "output_type": "stream",
     "text": [
      "['shamir', 'ansh', 'priyanka', 'piyush', 'soumya', 'anshika']\n"
     ]
    }
   ],
   "source": [
    "print(students)"
   ]
  },
  {
   "cell_type": "code",
   "execution_count": 3,
   "id": "f1bbfd7d",
   "metadata": {},
   "outputs": [
    {
     "data": {
      "text/plain": [
       "list"
      ]
     },
     "execution_count": 3,
     "metadata": {},
     "output_type": "execute_result"
    }
   ],
   "source": [
    "type(students)"
   ]
  },
  {
   "cell_type": "code",
   "execution_count": null,
   "id": "a2780197",
   "metadata": {},
   "outputs": [],
   "source": []
  },
  {
   "cell_type": "code",
   "execution_count": null,
   "id": "0f146e57",
   "metadata": {},
   "outputs": [],
   "source": [
    "# req : i want to appreciate all the students in the list"
   ]
  },
  {
   "cell_type": "code",
   "execution_count": 5,
   "id": "bbfe2841",
   "metadata": {},
   "outputs": [
    {
     "name": "stdout",
     "output_type": "stream",
     "text": [
      "keep up the good work, shamir\n"
     ]
    }
   ],
   "source": [
    "print(f\"keep up the good work, {students[0]}\")"
   ]
  },
  {
   "cell_type": "code",
   "execution_count": 6,
   "id": "a877db8f",
   "metadata": {},
   "outputs": [
    {
     "name": "stdout",
     "output_type": "stream",
     "text": [
      "keep up the good work, Shamir\n"
     ]
    }
   ],
   "source": [
    "print(f\"keep up the good work, {students[0].title()}\")"
   ]
  },
  {
   "cell_type": "code",
   "execution_count": 7,
   "id": "d6385f83",
   "metadata": {},
   "outputs": [
    {
     "name": "stdout",
     "output_type": "stream",
     "text": [
      "keep up the good work, Ansh\n"
     ]
    }
   ],
   "source": [
    "print(f\"keep up the good work, {students[1].title()}\")"
   ]
  },
  {
   "cell_type": "code",
   "execution_count": 8,
   "id": "dedd6a1e",
   "metadata": {},
   "outputs": [
    {
     "name": "stdout",
     "output_type": "stream",
     "text": [
      "keep up the good work, Priyanka\n"
     ]
    }
   ],
   "source": [
    "print(f\"keep up the good work, {students[2].title()}\")"
   ]
  },
  {
   "cell_type": "code",
   "execution_count": null,
   "id": "3ddcf947",
   "metadata": {},
   "outputs": [],
   "source": []
  },
  {
   "cell_type": "code",
   "execution_count": null,
   "id": "757c1466",
   "metadata": {},
   "outputs": [],
   "source": [
    "# general syntax of a list datatype:"
   ]
  },
  {
   "cell_type": "code",
   "execution_count": null,
   "id": "7e695a68",
   "metadata": {},
   "outputs": [],
   "source": [
    "for tempvar in mainvar:\n",
    "    print(tempvar)"
   ]
  },
  {
   "cell_type": "code",
   "execution_count": 10,
   "id": "1ae36548",
   "metadata": {},
   "outputs": [
    {
     "name": "stdout",
     "output_type": "stream",
     "text": [
      "Keep up the good work, Shamir\n",
      "Keep up the good work, Ansh\n",
      "Keep up the good work, Priyanka\n",
      "Keep up the good work, Piyush\n",
      "Keep up the good work, Soumya\n",
      "Keep up the good work, Anshika\n"
     ]
    }
   ],
   "source": [
    "for x in students:\n",
    "    print(f\"Keep up the good work, {x.title()}\")"
   ]
  },
  {
   "cell_type": "code",
   "execution_count": 13,
   "id": "4310ff36",
   "metadata": {},
   "outputs": [
    {
     "name": "stdout",
     "output_type": "stream",
     "text": [
      "Keep up the good work, Shamir\n",
      "Keep up the good work, Ansh\n",
      "Keep up the good work, Priyanka\n",
      "Keep up the good work, Piyush\n",
      "Keep up the good work, Soumya\n",
      "Keep up the good work, Anshika\n"
     ]
    }
   ],
   "source": [
    "for box in students:\n",
    "    print(f\"Keep up the good work, {box.title()}\")    # indentation"
   ]
  },
  {
   "cell_type": "code",
   "execution_count": 14,
   "id": "f7aa7f8c",
   "metadata": {},
   "outputs": [
    {
     "ename": "IndentationError",
     "evalue": "expected an indented block (<ipython-input-14-15e8f78f3117>, line 2)",
     "output_type": "error",
     "traceback": [
      "\u001b[1;36m  File \u001b[1;32m\"<ipython-input-14-15e8f78f3117>\"\u001b[1;36m, line \u001b[1;32m2\u001b[0m\n\u001b[1;33m    print(f\"Keep up the good work, {box.title()}\")\u001b[0m\n\u001b[1;37m    ^\u001b[0m\n\u001b[1;31mIndentationError\u001b[0m\u001b[1;31m:\u001b[0m expected an indented block\n"
     ]
    }
   ],
   "source": [
    "for box in students:\n",
    "print(f\"Keep up the good work, {box.title()}\")"
   ]
  },
  {
   "cell_type": "code",
   "execution_count": null,
   "id": "0b2050c5",
   "metadata": {},
   "outputs": [],
   "source": [
    "# req :"
   ]
  },
  {
   "cell_type": "code",
   "execution_count": 17,
   "id": "7c48256a",
   "metadata": {},
   "outputs": [
    {
     "name": "stdout",
     "output_type": "stream",
     "text": [
      "Keep up the good work, Shamir\n",
      "please do send me the practice file of today, Shamir\n",
      "Keep up the good work, Ansh\n",
      "please do send me the practice file of today, Ansh\n",
      "Keep up the good work, Priyanka\n",
      "please do send me the practice file of today, Priyanka\n",
      "Keep up the good work, Piyush\n",
      "please do send me the practice file of today, Piyush\n",
      "Keep up the good work, Soumya\n",
      "please do send me the practice file of today, Soumya\n",
      "Keep up the good work, Anshika\n",
      "please do send me the practice file of today, Anshika\n"
     ]
    }
   ],
   "source": [
    "for x in students:\n",
    "    print(f\"Keep up the good work, {x.title()}\")\n",
    "    print(f\"please do send me the practice file of today, {x.title()}\")"
   ]
  },
  {
   "cell_type": "code",
   "execution_count": 19,
   "id": "93d7363d",
   "metadata": {},
   "outputs": [
    {
     "name": "stdout",
     "output_type": "stream",
     "text": [
      "Keep up the good work, Shamir\n",
      "please do send me the practice file of today, Shamir.\n",
      "\n",
      "Keep up the good work, Ansh\n",
      "please do send me the practice file of today, Ansh.\n",
      "\n",
      "Keep up the good work, Priyanka\n",
      "please do send me the practice file of today, Priyanka.\n",
      "\n",
      "Keep up the good work, Piyush\n",
      "please do send me the practice file of today, Piyush.\n",
      "\n",
      "Keep up the good work, Soumya\n",
      "please do send me the practice file of today, Soumya.\n",
      "\n",
      "Keep up the good work, Anshika\n",
      "please do send me the practice file of today, Anshika.\n",
      "\n"
     ]
    }
   ],
   "source": [
    "for x in students:\n",
    "    print(f\"Keep up the good work, {x.title()}\")\n",
    "    print(f\"please do send me the practice file of today, {x.title()}.\\n\")"
   ]
  },
  {
   "cell_type": "code",
   "execution_count": 24,
   "id": "c99b3e0a",
   "metadata": {},
   "outputs": [
    {
     "name": "stdout",
     "output_type": "stream",
     "text": [
      "Keep up the good work, Shamir\n",
      "please do send me the practice file of today, Shamir.\n",
      "\n",
      "Keep up the good work, Ansh\n",
      "please do send me the practice file of today, Ansh.\n",
      "\n",
      "Keep up the good work, Priyanka\n",
      "please do send me the practice file of today, Priyanka.\n",
      "\n",
      "Keep up the good work, Piyush\n",
      "please do send me the practice file of today, Piyush.\n",
      "\n",
      "Keep up the good work, Soumya\n",
      "please do send me the practice file of today, Soumya.\n",
      "\n",
      "Keep up the good work, Anshika\n",
      "please do send me the practice file of today, Anshika.\n",
      "\n",
      "Thank you all for showing the interest to learn python\n"
     ]
    }
   ],
   "source": [
    "for x in students:\n",
    "    print(f\"Keep up the good work, {x.title()}\")    # in the loop.\n",
    "    print(f\"please do send me the practice file of today, {x.title()}.\\n\")\n",
    "\n",
    "print(f\"Thank you all for showing the interest to learn python\")    # out the loop.  "
   ]
  },
  {
   "cell_type": "code",
   "execution_count": null,
   "id": "ba2975b1",
   "metadata": {},
   "outputs": [],
   "source": []
  }
 ],
 "metadata": {
  "kernelspec": {
   "display_name": "Python 3",
   "language": "python",
   "name": "python3"
  },
  "language_info": {
   "codemirror_mode": {
    "name": "ipython",
    "version": 3
   },
   "file_extension": ".py",
   "mimetype": "text/x-python",
   "name": "python",
   "nbconvert_exporter": "python",
   "pygments_lexer": "ipython3",
   "version": "3.8.8"
  }
 },
 "nbformat": 4,
 "nbformat_minor": 5
}
